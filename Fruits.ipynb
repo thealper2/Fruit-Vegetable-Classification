{
 "cells": [
  {
   "cell_type": "code",
   "execution_count": 9,
   "id": "0bb58933",
   "metadata": {},
   "outputs": [],
   "source": [
    "import os\n",
    "import numpy as np\n",
    "import pandas as pd\n",
    "\n",
    "train_dir = \"/mnt/c/Users/akrc2/Downloads/fruits/train\"\n",
    "valid_dir = \"/mnt/c/Users/akrc2/Downloads/fruits/validation\"\n",
    "test_dir = \"/mnt/c/Users/akrc2/Downloads/fruits/test\"\n",
    "num_classes = 36"
   ]
  },
  {
   "cell_type": "code",
   "execution_count": 2,
   "id": "78d08072",
   "metadata": {},
   "outputs": [
    {
     "name": "stderr",
     "output_type": "stream",
     "text": [
      "2023-07-02 13:49:32.358328: I tensorflow/tsl/cuda/cudart_stub.cc:28] Could not find cuda drivers on your machine, GPU will not be used.\n",
      "2023-07-02 13:49:32.711022: I tensorflow/tsl/cuda/cudart_stub.cc:28] Could not find cuda drivers on your machine, GPU will not be used.\n",
      "2023-07-02 13:49:32.713156: I tensorflow/core/platform/cpu_feature_guard.cc:182] This TensorFlow binary is optimized to use available CPU instructions in performance-critical operations.\n",
      "To enable the following instructions: AVX2 FMA, in other operations, rebuild TensorFlow with the appropriate compiler flags.\n",
      "2023-07-02 13:49:34.020416: W tensorflow/compiler/tf2tensorrt/utils/py_utils.cc:38] TF-TRT Warning: Could not find TensorRT\n"
     ]
    }
   ],
   "source": [
    "from tensorflow.keras.preprocessing.image import ImageDataGenerator\n",
    "\n",
    "train_datagen = ImageDataGenerator(\n",
    "    rescale=1./255,\n",
    "    shear_range=0.2,\n",
    "    zoom_range=0.2,\n",
    "    horizontal_flip=True\n",
    ")\n",
    "\n",
    "test_datagen = ImageDataGenerator(\n",
    "    rescale=1./255\n",
    ")\n",
    "\n",
    "validation_datagen = ImageDataGenerator(\n",
    "    rescale=1./255\n",
    ")"
   ]
  },
  {
   "cell_type": "code",
   "execution_count": 3,
   "id": "cf2d9820",
   "metadata": {},
   "outputs": [
    {
     "name": "stdout",
     "output_type": "stream",
     "text": [
      "Found 3115 images belonging to 36 classes.\n",
      "Found 359 images belonging to 36 classes.\n",
      "Found 351 images belonging to 36 classes.\n"
     ]
    }
   ],
   "source": [
    "train_generator = train_datagen.flow_from_directory(\n",
    "    train_dir,\n",
    "    target_size=(224, 224),\n",
    "    batch_size=32,\n",
    "    class_mode=\"categorical\"\n",
    ")\n",
    "\n",
    "test_generator = test_datagen.flow_from_directory(\n",
    "    test_dir,\n",
    "    target_size=(224, 224),\n",
    "    batch_size=32,\n",
    "    class_mode=\"categorical\",\n",
    "    shuffle=False\n",
    ")\n",
    "\n",
    "validation_generator = validation_datagen.flow_from_directory(\n",
    "    valid_dir,\n",
    "    target_size=(224, 224),\n",
    "    batch_size=32,\n",
    "    class_mode=\"categorical\"\n",
    ")"
   ]
  },
  {
   "cell_type": "code",
   "execution_count": 4,
   "id": "f9c26522",
   "metadata": {},
   "outputs": [
    {
     "name": "stderr",
     "output_type": "stream",
     "text": [
      "2023-07-02 13:49:46.560753: I tensorflow/compiler/xla/stream_executor/cuda/cuda_gpu_executor.cc:982] could not open file to read NUMA node: /sys/bus/pci/devices/0000:08:00.0/numa_node\n",
      "Your kernel may have been built without NUMA support.\n",
      "2023-07-02 13:49:46.561111: W tensorflow/core/common_runtime/gpu/gpu_device.cc:1956] Cannot dlopen some GPU libraries. Please make sure the missing libraries mentioned above are installed properly if you would like to use GPU. Follow the guide at https://www.tensorflow.org/install/gpu for how to download and setup the required libraries for your platform.\n",
      "Skipping registering GPU devices...\n"
     ]
    },
    {
     "name": "stdout",
     "output_type": "stream",
     "text": [
      "Downloading data from https://storage.googleapis.com/tensorflow/keras-applications/mobilenet_v2/mobilenet_v2_weights_tf_dim_ordering_tf_kernels_1.0_224_no_top.h5\n",
      "9406464/9406464 [==============================] - 1s 0us/step\n"
     ]
    }
   ],
   "source": [
    "from tensorflow.keras.applications import MobileNetV2\n",
    "\n",
    "base_model = MobileNetV2(weights=\"imagenet\", include_top=False, input_shape=(224, 224, 3))\n",
    "\n",
    "for layer in base_model.layers:\n",
    "    layer.trainable = False"
   ]
  },
  {
   "cell_type": "code",
   "execution_count": 5,
   "id": "e69e82b2",
   "metadata": {},
   "outputs": [],
   "source": [
    "from tensorflow.keras.layers import GlobalAveragePooling2D, Dense\n",
    "from tensorflow.keras.models import Model\n",
    "\n",
    "x = base_model.output\n",
    "x = GlobalAveragePooling2D()(x)\n",
    "x = Dense(1024, activation=\"relu\")(x)\n",
    "predictions = Dense(num_classes, activation=\"softmax\")(x)\n",
    "\n",
    "model = Model(inputs=base_model.input, outputs=predictions)"
   ]
  },
  {
   "cell_type": "code",
   "execution_count": 6,
   "id": "82a80107",
   "metadata": {},
   "outputs": [],
   "source": [
    "model.compile(optimizer=\"adam\", loss=\"categorical_crossentropy\", metrics=[\"accuracy\"])"
   ]
  },
  {
   "cell_type": "code",
   "execution_count": 7,
   "id": "537dcf20",
   "metadata": {},
   "outputs": [
    {
     "name": "stdout",
     "output_type": "stream",
     "text": [
      "Epoch 1/10\n"
     ]
    },
    {
     "name": "stderr",
     "output_type": "stream",
     "text": [
      "2023-07-02 13:50:02.237676: I tensorflow/core/common_runtime/executor.cc:1197] [/device:CPU:0] (DEBUG INFO) Executor start aborting (this does not indicate an error and you can ignore this message): INVALID_ARGUMENT: You must feed a value for placeholder tensor 'Placeholder/_0' with dtype int32\n",
      "\t [[{{node Placeholder/_0}}]]\n"
     ]
    },
    {
     "name": "stdout",
     "output_type": "stream",
     "text": [
      "16/97 [===>..........................] - ETA: 2:23 - loss: 2.6344 - accuracy: 0.3555"
     ]
    },
    {
     "name": "stderr",
     "output_type": "stream",
     "text": [
      "/home/alper/.local/lib/python3.10/site-packages/PIL/Image.py:996: UserWarning: Palette images with Transparency expressed in bytes should be converted to RGBA images\n",
      "  warnings.warn(\n"
     ]
    },
    {
     "name": "stdout",
     "output_type": "stream",
     "text": [
      "97/97 [==============================] - ETA: 0s - loss: 1.2743 - accuracy: 0.6387"
     ]
    },
    {
     "name": "stderr",
     "output_type": "stream",
     "text": [
      "2023-07-02 13:53:15.505589: I tensorflow/core/common_runtime/executor.cc:1197] [/device:CPU:0] (DEBUG INFO) Executor start aborting (this does not indicate an error and you can ignore this message): INVALID_ARGUMENT: You must feed a value for placeholder tensor 'Placeholder/_0' with dtype int32\n",
      "\t [[{{node Placeholder/_0}}]]\n"
     ]
    },
    {
     "name": "stdout",
     "output_type": "stream",
     "text": [
      "97/97 [==============================] - 209s 2s/step - loss: 1.2743 - accuracy: 0.6387 - val_loss: 0.4213 - val_accuracy: 0.8594\n",
      "Epoch 2/10\n",
      "97/97 [==============================] - 177s 2s/step - loss: 0.5127 - accuracy: 0.8388 - val_loss: 0.3241 - val_accuracy: 0.8938\n",
      "Epoch 3/10\n",
      "97/97 [==============================] - 154s 2s/step - loss: 0.3296 - accuracy: 0.8894 - val_loss: 0.2306 - val_accuracy: 0.9312\n",
      "Epoch 4/10\n",
      "97/97 [==============================] - 145s 2s/step - loss: 0.2540 - accuracy: 0.9147 - val_loss: 0.2129 - val_accuracy: 0.9187\n",
      "Epoch 5/10\n",
      "97/97 [==============================] - 147s 2s/step - loss: 0.2154 - accuracy: 0.9283 - val_loss: 0.2050 - val_accuracy: 0.9406\n",
      "Epoch 6/10\n",
      "97/97 [==============================] - 151s 2s/step - loss: 0.1627 - accuracy: 0.9465 - val_loss: 0.1801 - val_accuracy: 0.9312\n",
      "Epoch 7/10\n",
      "97/97 [==============================] - 152s 2s/step - loss: 0.1274 - accuracy: 0.9591 - val_loss: 0.1988 - val_accuracy: 0.9438\n",
      "Epoch 8/10\n",
      "97/97 [==============================] - 155s 2s/step - loss: 0.1090 - accuracy: 0.9624 - val_loss: 0.1442 - val_accuracy: 0.9594\n",
      "Epoch 9/10\n",
      "97/97 [==============================] - 164s 2s/step - loss: 0.0956 - accuracy: 0.9685 - val_loss: 0.1717 - val_accuracy: 0.9688\n",
      "Epoch 10/10\n",
      "97/97 [==============================] - 155s 2s/step - loss: 0.0907 - accuracy: 0.9705 - val_loss: 0.1692 - val_accuracy: 0.9750\n"
     ]
    }
   ],
   "source": [
    "history = model.fit(\n",
    "    train_generator,\n",
    "    steps_per_epoch=train_generator.samples // train_generator.batch_size,\n",
    "    validation_data=validation_generator,\n",
    "    validation_steps=validation_generator.samples // validation_generator.batch_size,\n",
    "    epochs=10\n",
    ")"
   ]
  },
  {
   "cell_type": "code",
   "execution_count": 10,
   "id": "6b99a07e",
   "metadata": {},
   "outputs": [
    {
     "data": {
      "text/html": [
       "<div>\n",
       "<style scoped>\n",
       "    .dataframe tbody tr th:only-of-type {\n",
       "        vertical-align: middle;\n",
       "    }\n",
       "\n",
       "    .dataframe tbody tr th {\n",
       "        vertical-align: top;\n",
       "    }\n",
       "\n",
       "    .dataframe thead th {\n",
       "        text-align: right;\n",
       "    }\n",
       "</style>\n",
       "<table border=\"1\" class=\"dataframe\">\n",
       "  <thead>\n",
       "    <tr style=\"text-align: right;\">\n",
       "      <th></th>\n",
       "      <th>loss</th>\n",
       "      <th>accuracy</th>\n",
       "      <th>val_loss</th>\n",
       "      <th>val_accuracy</th>\n",
       "    </tr>\n",
       "  </thead>\n",
       "  <tbody>\n",
       "    <tr>\n",
       "      <th>0</th>\n",
       "      <td>1.274315</td>\n",
       "      <td>0.638664</td>\n",
       "      <td>0.421291</td>\n",
       "      <td>0.859375</td>\n",
       "    </tr>\n",
       "    <tr>\n",
       "      <th>1</th>\n",
       "      <td>0.512737</td>\n",
       "      <td>0.838793</td>\n",
       "      <td>0.324073</td>\n",
       "      <td>0.893750</td>\n",
       "    </tr>\n",
       "    <tr>\n",
       "      <th>2</th>\n",
       "      <td>0.329622</td>\n",
       "      <td>0.889393</td>\n",
       "      <td>0.230639</td>\n",
       "      <td>0.931250</td>\n",
       "    </tr>\n",
       "    <tr>\n",
       "      <th>3</th>\n",
       "      <td>0.253990</td>\n",
       "      <td>0.914693</td>\n",
       "      <td>0.212915</td>\n",
       "      <td>0.918750</td>\n",
       "    </tr>\n",
       "    <tr>\n",
       "      <th>4</th>\n",
       "      <td>0.215369</td>\n",
       "      <td>0.928317</td>\n",
       "      <td>0.205019</td>\n",
       "      <td>0.940625</td>\n",
       "    </tr>\n",
       "  </tbody>\n",
       "</table>\n",
       "</div>"
      ],
      "text/plain": [
       "       loss  accuracy  val_loss  val_accuracy\n",
       "0  1.274315  0.638664  0.421291      0.859375\n",
       "1  0.512737  0.838793  0.324073      0.893750\n",
       "2  0.329622  0.889393  0.230639      0.931250\n",
       "3  0.253990  0.914693  0.212915      0.918750\n",
       "4  0.215369  0.928317  0.205019      0.940625"
      ]
     },
     "execution_count": 10,
     "metadata": {},
     "output_type": "execute_result"
    }
   ],
   "source": [
    "history_df = pd.DataFrame(history.history)\n",
    "history_df.head()"
   ]
  },
  {
   "cell_type": "code",
   "execution_count": 11,
   "id": "8fc51164",
   "metadata": {},
   "outputs": [
    {
     "data": {
      "image/png": "[encoded data removed]",
      "text/plain": [
       "<Figure size 640x480 with 1 Axes>"
      ]
     },
     "metadata": {},
     "output_type": "display_data"
    }
   ],
   "source": [
    "import matplotlib.pyplot as plt\n",
    "\n",
    "plt.figure()\n",
    "plt.plot(history.history[\"loss\"])\n",
    "plt.plot(history.history[\"val_loss\"])\n",
    "plt.xlabel(\"Epoch\")\n",
    "plt.ylabel(\"Loss\")\n",
    "plt.legend([\"train\", \"valid\"])\n",
    "plt.show()"
   ]
  },
  {
   "cell_type": "code",
   "execution_count": 12,
   "id": "c92f7745",
   "metadata": {},
   "outputs": [
    {
     "data": {
      "image/png": "[encoded data removed]",
      "text/plain": [
       "<Figure size 640x480 with 1 Axes>"
      ]
     },
     "metadata": {},
     "output_type": "display_data"
    }
   ],
   "source": [
    "plt.figure()\n",
    "plt.plot(history.history[\"accuracy\"])\n",
    "plt.plot(history.history[\"val_accuracy\"])\n",
    "plt.xlabel(\"Epoch\")\n",
    "plt.ylabel(\"Accuracy\")\n",
    "plt.legend([\"train\", \"valid\"])\n",
    "plt.show()"
   ]
  },
  {
   "cell_type": "code",
   "execution_count": 13,
   "id": "08e58cc8",
   "metadata": {},
   "outputs": [
    {
     "name": "stderr",
     "output_type": "stream",
     "text": [
      "2023-07-02 14:18:20.034017: I tensorflow/core/common_runtime/executor.cc:1197] [/device:CPU:0] (DEBUG INFO) Executor start aborting (this does not indicate an error and you can ignore this message): INVALID_ARGUMENT: You must feed a value for placeholder tensor 'Placeholder/_0' with dtype int32\n",
      "\t [[{{node Placeholder/_0}}]]\n"
     ]
    },
    {
     "name": "stdout",
     "output_type": "stream",
     "text": [
      "12/12 [==============================] - 16s 1s/step\n"
     ]
    }
   ],
   "source": [
    "preds = model.predict(test_generator)"
   ]
  },
  {
   "cell_type": "code",
   "execution_count": 15,
   "id": "0f9b588a",
   "metadata": {},
   "outputs": [
    {
     "data": {
      "text/plain": [
       "['apple',\n",
       " 'banana',\n",
       " 'beetroot',\n",
       " 'bell pepper',\n",
       " 'cabbage',\n",
       " 'capsicum',\n",
       " 'carrot',\n",
       " 'cauliflower',\n",
       " 'chilli pepper',\n",
       " 'corn',\n",
       " 'cucumber',\n",
       " 'eggplant',\n",
       " 'garlic',\n",
       " 'ginger',\n",
       " 'grapes',\n",
       " 'jalepeno',\n",
       " 'kiwi',\n",
       " 'lemon',\n",
       " 'lettuce',\n",
       " 'mango',\n",
       " 'onion',\n",
       " 'orange',\n",
       " 'paprika',\n",
       " 'pear',\n",
       " 'peas',\n",
       " 'pineapple',\n",
       " 'pomegranate',\n",
       " 'potato',\n",
       " 'raddish',\n",
       " 'soy beans',\n",
       " 'spinach',\n",
       " 'sweetcorn',\n",
       " 'sweetpotato',\n",
       " 'tomato',\n",
       " 'turnip',\n",
       " 'watermelon']"
      ]
     },
     "execution_count": 15,
     "metadata": {},
     "output_type": "execute_result"
    }
   ],
   "source": [
    "os.listdir(train_dir)"
   ]
  },
  {
   "cell_type": "code",
   "execution_count": 16,
   "id": "d1dcfa2c",
   "metadata": {},
   "outputs": [],
   "source": [
    "y_pred = np.argmax(preds, axis=1)"
   ]
  },
  {
   "cell_type": "code",
   "execution_count": 18,
   "id": "698458b0",
   "metadata": {},
   "outputs": [
    {
     "name": "stdout",
     "output_type": "stream",
     "text": [
      "0 : apple\n",
      "1 : banana\n",
      "2 : beetroot\n",
      "3 : bell pepper\n",
      "4 : cabbage\n",
      "5 : capsicum\n",
      "6 : carrot\n",
      "7 : cauliflower\n",
      "8 : chilli pepper\n",
      "9 : corn\n",
      "10 : cucumber\n",
      "11 : eggplant\n",
      "12 : garlic\n",
      "13 : ginger\n",
      "14 : grapes\n",
      "15 : jalepeno\n",
      "16 : kiwi\n",
      "17 : lemon\n",
      "18 : lettuce\n",
      "19 : mango\n",
      "20 : onion\n",
      "21 : orange\n",
      "22 : paprika\n",
      "23 : pear\n",
      "24 : peas\n",
      "25 : pineapple\n",
      "26 : pomegranate\n",
      "27 : potato\n",
      "28 : raddish\n",
      "29 : soy beans\n",
      "30 : spinach\n",
      "31 : sweetcorn\n",
      "32 : sweetpotato\n",
      "33 : tomato\n",
      "34 : turnip\n",
      "35 : watermelon\n"
     ]
    }
   ],
   "source": [
    "for k, v in test_generator.class_indices.items():\n",
    "    print(v, \":\", k)"
   ]
  },
  {
   "cell_type": "code",
   "execution_count": 20,
   "id": "d7d33cf5",
   "metadata": {},
   "outputs": [],
   "source": [
    "pred_classes = {\n",
    "    0 : \"apple\",\n",
    "    1 : \"banana\",\n",
    "    2 : \"beetroot\",\n",
    "    3 : \"bell pepper\",\n",
    "    4 : \"cabbage\",\n",
    "    5 : \"capsicum\",\n",
    "    6 : \"carrot\",\n",
    "    7 : \"cauliflower\",\n",
    "    8 : \"chilli pepper\",\n",
    "    9 : \"corn\",\n",
    "    10 : \"cucumber\",\n",
    "    11 : \"eggplant\",\n",
    "    12 : \"garlic\",\n",
    "    13 : \"ginger\",\n",
    "    14 : \"grapes\",\n",
    "    15 : \"jalepeno\",\n",
    "    16 : \"kiwi\",\n",
    "    17 : \"lemon\",\n",
    "    18 : \"lettuce\",\n",
    "    19 : \"mango\",\n",
    "    20 : \"onion\",\n",
    "    21 : \"orange\",\n",
    "    22 : \"paprika\",\n",
    "    23 : \"pear\",\n",
    "    24 : \"peas\",\n",
    "    25 : \"pineapple\",\n",
    "    26 : \"pomegranate\",\n",
    "    27 : \"potato\",\n",
    "    28 : \"raddish\",\n",
    "    29 : \"soy beans\",\n",
    "    30 : \"spinach\",\n",
    "    31 : \"sweetcorn\",\n",
    "    32 : \"sweetpotato\",\n",
    "    33 : \"tomato\",\n",
    "    34 : \"turnip\",\n",
    "    35 : \"watermelon\"\n",
    "}"
   ]
  },
  {
   "cell_type": "code",
   "execution_count": 21,
   "id": "664c0f7a",
   "metadata": {},
   "outputs": [],
   "source": [
    "y_pred = list(map(lambda x: pred_classes[x], y_pred))"
   ]
  },
  {
   "cell_type": "code",
   "execution_count": 22,
   "id": "d30c758f",
   "metadata": {},
   "outputs": [],
   "source": [
    "y_test = list(map(lambda x: pred_classes[x], test_generator.classes))"
   ]
  },
  {
   "cell_type": "code",
   "execution_count": 23,
   "id": "9651c77e",
   "metadata": {},
   "outputs": [
    {
     "name": "stdout",
     "output_type": "stream",
     "text": [
      "               precision    recall  f1-score   support\n",
      "\n",
      "        apple       0.90      0.75      0.82        12\n",
      "       banana       0.78      1.00      0.88         7\n",
      "     beetroot       1.00      1.00      1.00        10\n",
      "  bell pepper       1.00      0.77      0.87        13\n",
      "      cabbage       1.00      1.00      1.00        10\n",
      "     capsicum       0.70      1.00      0.82         7\n",
      "       carrot       1.00      1.00      1.00        10\n",
      "  cauliflower       1.00      1.00      1.00        10\n",
      "chilli pepper       1.00      0.91      0.95        11\n",
      "         corn       1.00      0.83      0.91        12\n",
      "     cucumber       1.00      1.00      1.00        10\n",
      "     eggplant       1.00      1.00      1.00        10\n",
      "       garlic       1.00      1.00      1.00        10\n",
      "       ginger       1.00      1.00      1.00        10\n",
      "       grapes       1.00      1.00      1.00        10\n",
      "     jalepeno       1.00      0.91      0.95        11\n",
      "         kiwi       1.00      1.00      1.00        10\n",
      "        lemon       1.00      1.00      1.00        10\n",
      "      lettuce       1.00      1.00      1.00        10\n",
      "        mango       1.00      1.00      1.00        10\n",
      "        onion       1.00      1.00      1.00        10\n",
      "       orange       1.00      1.00      1.00        10\n",
      "      paprika       1.00      1.00      1.00        10\n",
      "         pear       1.00      1.00      1.00        10\n",
      "         peas       1.00      1.00      1.00        10\n",
      "    pineapple       1.00      1.00      1.00        10\n",
      "  pomegranate       1.00      1.00      1.00        10\n",
      "       potato       0.80      1.00      0.89         8\n",
      "      raddish       1.00      1.00      1.00        10\n",
      "    soy beans       1.00      1.00      1.00        10\n",
      "      spinach       1.00      1.00      1.00        10\n",
      "    sweetcorn       0.80      1.00      0.89         8\n",
      "  sweetpotato       1.00      1.00      1.00        10\n",
      "       tomato       1.00      1.00      1.00        10\n",
      "       turnip       1.00      1.00      1.00        10\n",
      "   watermelon       1.00      1.00      1.00        10\n",
      "\n",
      "     accuracy                           0.97       359\n",
      "    macro avg       0.97      0.98      0.97       359\n",
      " weighted avg       0.98      0.97      0.97       359\n",
      "\n"
     ]
    }
   ],
   "source": [
    "from sklearn.metrics import classification_report\n",
    "\n",
    "print(classification_report(y_pred, y_test))"
   ]
  },
  {
   "cell_type": "code",
   "execution_count": null,
   "id": "38c1f80b",
   "metadata": {},
   "outputs": [],
   "source": []
  }
 ],
 "metadata": {
  "kernelspec": {
   "display_name": "Python 3 (ipykernel)",
   "language": "python",
   "name": "python3"
  },
  "language_info": {
   "codemirror_mode": {
    "name": "ipython",
    "version": 3
   },
   "file_extension": ".py",
   "mimetype": "text/x-python",
   "name": "python",
   "nbconvert_exporter": "python",
   "pygments_lexer": "ipython3",
   "version": "3.10.6"
  }
 },
 "nbformat": 4,
 "nbformat_minor": 5
}
